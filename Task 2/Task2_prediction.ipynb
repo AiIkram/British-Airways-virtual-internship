{
  "cells": [
    {
      "cell_type": "markdown",
      "metadata": {
        "id": "x4wppGV9e3S0"
      },
      "source": [
        "# Task 2\n",
        "\n",
        "---\n",
        "\n",
        "\n",
        "# **Exploratory data analysis**\n",
        "\n",
        "First, we must explore the data in order to better understand what we have and the statistical properties of the dataset."
      ]
    },
    {
      "cell_type": "code",
      "execution_count": 2,
      "metadata": {
        "id": "IIuJJgize3S3"
      },
      "outputs": [],
      "source": [
        "import pandas as pd\n",
        "import numpy as np\n",
        "import matplotlib.pyplot as plt\n",
        "import seaborn as sns\n",
        "\n",
        "import warnings"
      ]
    },
    {
      "cell_type": "code",
      "execution_count": 4,
      "metadata": {
        "colab": {
          "base_uri": "https://localhost:8080/",
          "height": 270
        },
        "id": "0AqezsaUe3S5",
        "outputId": "acfeff12-e554-4a2f-8cea-1e1e0bfdca20"
      },
      "outputs": [
        {
          "output_type": "execute_result",
          "data": {
            "text/plain": [
              "   num_passengers sales_channel  trip_type  purchase_lead  length_of_stay  \\\n",
              "0               2      Internet  RoundTrip            262              19   \n",
              "1               1      Internet  RoundTrip            112              20   \n",
              "2               2      Internet  RoundTrip            243              22   \n",
              "3               1      Internet  RoundTrip             96              31   \n",
              "4               2      Internet  RoundTrip             68              22   \n",
              "\n",
              "   flight_hour flight_day   route booking_origin  wants_extra_baggage  \\\n",
              "0            7        Sat  AKLDEL    New Zealand                    1   \n",
              "1            3        Sat  AKLDEL    New Zealand                    0   \n",
              "2           17        Wed  AKLDEL          India                    1   \n",
              "3            4        Sat  AKLDEL    New Zealand                    0   \n",
              "4           15        Wed  AKLDEL          India                    1   \n",
              "\n",
              "   wants_preferred_seat  wants_in_flight_meals  flight_duration  \\\n",
              "0                     0                      0             5.52   \n",
              "1                     0                      0             5.52   \n",
              "2                     1                      0             5.52   \n",
              "3                     0                      1             5.52   \n",
              "4                     0                      1             5.52   \n",
              "\n",
              "   booking_complete  \n",
              "0                 0  \n",
              "1                 0  \n",
              "2                 0  \n",
              "3                 0  \n",
              "4                 0  "
            ],
            "text/html": [
              "\n",
              "  <div id=\"df-e848dfce-3fe8-4bae-8be5-8c375fb4ec39\">\n",
              "    <div class=\"colab-df-container\">\n",
              "      <div>\n",
              "<style scoped>\n",
              "    .dataframe tbody tr th:only-of-type {\n",
              "        vertical-align: middle;\n",
              "    }\n",
              "\n",
              "    .dataframe tbody tr th {\n",
              "        vertical-align: top;\n",
              "    }\n",
              "\n",
              "    .dataframe thead th {\n",
              "        text-align: right;\n",
              "    }\n",
              "</style>\n",
              "<table border=\"1\" class=\"dataframe\">\n",
              "  <thead>\n",
              "    <tr style=\"text-align: right;\">\n",
              "      <th></th>\n",
              "      <th>num_passengers</th>\n",
              "      <th>sales_channel</th>\n",
              "      <th>trip_type</th>\n",
              "      <th>purchase_lead</th>\n",
              "      <th>length_of_stay</th>\n",
              "      <th>flight_hour</th>\n",
              "      <th>flight_day</th>\n",
              "      <th>route</th>\n",
              "      <th>booking_origin</th>\n",
              "      <th>wants_extra_baggage</th>\n",
              "      <th>wants_preferred_seat</th>\n",
              "      <th>wants_in_flight_meals</th>\n",
              "      <th>flight_duration</th>\n",
              "      <th>booking_complete</th>\n",
              "    </tr>\n",
              "  </thead>\n",
              "  <tbody>\n",
              "    <tr>\n",
              "      <th>0</th>\n",
              "      <td>2</td>\n",
              "      <td>Internet</td>\n",
              "      <td>RoundTrip</td>\n",
              "      <td>262</td>\n",
              "      <td>19</td>\n",
              "      <td>7</td>\n",
              "      <td>Sat</td>\n",
              "      <td>AKLDEL</td>\n",
              "      <td>New Zealand</td>\n",
              "      <td>1</td>\n",
              "      <td>0</td>\n",
              "      <td>0</td>\n",
              "      <td>5.52</td>\n",
              "      <td>0</td>\n",
              "    </tr>\n",
              "    <tr>\n",
              "      <th>1</th>\n",
              "      <td>1</td>\n",
              "      <td>Internet</td>\n",
              "      <td>RoundTrip</td>\n",
              "      <td>112</td>\n",
              "      <td>20</td>\n",
              "      <td>3</td>\n",
              "      <td>Sat</td>\n",
              "      <td>AKLDEL</td>\n",
              "      <td>New Zealand</td>\n",
              "      <td>0</td>\n",
              "      <td>0</td>\n",
              "      <td>0</td>\n",
              "      <td>5.52</td>\n",
              "      <td>0</td>\n",
              "    </tr>\n",
              "    <tr>\n",
              "      <th>2</th>\n",
              "      <td>2</td>\n",
              "      <td>Internet</td>\n",
              "      <td>RoundTrip</td>\n",
              "      <td>243</td>\n",
              "      <td>22</td>\n",
              "      <td>17</td>\n",
              "      <td>Wed</td>\n",
              "      <td>AKLDEL</td>\n",
              "      <td>India</td>\n",
              "      <td>1</td>\n",
              "      <td>1</td>\n",
              "      <td>0</td>\n",
              "      <td>5.52</td>\n",
              "      <td>0</td>\n",
              "    </tr>\n",
              "    <tr>\n",
              "      <th>3</th>\n",
              "      <td>1</td>\n",
              "      <td>Internet</td>\n",
              "      <td>RoundTrip</td>\n",
              "      <td>96</td>\n",
              "      <td>31</td>\n",
              "      <td>4</td>\n",
              "      <td>Sat</td>\n",
              "      <td>AKLDEL</td>\n",
              "      <td>New Zealand</td>\n",
              "      <td>0</td>\n",
              "      <td>0</td>\n",
              "      <td>1</td>\n",
              "      <td>5.52</td>\n",
              "      <td>0</td>\n",
              "    </tr>\n",
              "    <tr>\n",
              "      <th>4</th>\n",
              "      <td>2</td>\n",
              "      <td>Internet</td>\n",
              "      <td>RoundTrip</td>\n",
              "      <td>68</td>\n",
              "      <td>22</td>\n",
              "      <td>15</td>\n",
              "      <td>Wed</td>\n",
              "      <td>AKLDEL</td>\n",
              "      <td>India</td>\n",
              "      <td>1</td>\n",
              "      <td>0</td>\n",
              "      <td>1</td>\n",
              "      <td>5.52</td>\n",
              "      <td>0</td>\n",
              "    </tr>\n",
              "  </tbody>\n",
              "</table>\n",
              "</div>\n",
              "      <button class=\"colab-df-convert\" onclick=\"convertToInteractive('df-e848dfce-3fe8-4bae-8be5-8c375fb4ec39')\"\n",
              "              title=\"Convert this dataframe to an interactive table.\"\n",
              "              style=\"display:none;\">\n",
              "        \n",
              "  <svg xmlns=\"http://www.w3.org/2000/svg\" height=\"24px\"viewBox=\"0 0 24 24\"\n",
              "       width=\"24px\">\n",
              "    <path d=\"M0 0h24v24H0V0z\" fill=\"none\"/>\n",
              "    <path d=\"M18.56 5.44l.94 2.06.94-2.06 2.06-.94-2.06-.94-.94-2.06-.94 2.06-2.06.94zm-11 1L8.5 8.5l.94-2.06 2.06-.94-2.06-.94L8.5 2.5l-.94 2.06-2.06.94zm10 10l.94 2.06.94-2.06 2.06-.94-2.06-.94-.94-2.06-.94 2.06-2.06.94z\"/><path d=\"M17.41 7.96l-1.37-1.37c-.4-.4-.92-.59-1.43-.59-.52 0-1.04.2-1.43.59L10.3 9.45l-7.72 7.72c-.78.78-.78 2.05 0 2.83L4 21.41c.39.39.9.59 1.41.59.51 0 1.02-.2 1.41-.59l7.78-7.78 2.81-2.81c.8-.78.8-2.07 0-2.86zM5.41 20L4 18.59l7.72-7.72 1.47 1.35L5.41 20z\"/>\n",
              "  </svg>\n",
              "      </button>\n",
              "      \n",
              "  <style>\n",
              "    .colab-df-container {\n",
              "      display:flex;\n",
              "      flex-wrap:wrap;\n",
              "      gap: 12px;\n",
              "    }\n",
              "\n",
              "    .colab-df-convert {\n",
              "      background-color: #E8F0FE;\n",
              "      border: none;\n",
              "      border-radius: 50%;\n",
              "      cursor: pointer;\n",
              "      display: none;\n",
              "      fill: #1967D2;\n",
              "      height: 32px;\n",
              "      padding: 0 0 0 0;\n",
              "      width: 32px;\n",
              "    }\n",
              "\n",
              "    .colab-df-convert:hover {\n",
              "      background-color: #E2EBFA;\n",
              "      box-shadow: 0px 1px 2px rgba(60, 64, 67, 0.3), 0px 1px 3px 1px rgba(60, 64, 67, 0.15);\n",
              "      fill: #174EA6;\n",
              "    }\n",
              "\n",
              "    [theme=dark] .colab-df-convert {\n",
              "      background-color: #3B4455;\n",
              "      fill: #D2E3FC;\n",
              "    }\n",
              "\n",
              "    [theme=dark] .colab-df-convert:hover {\n",
              "      background-color: #434B5C;\n",
              "      box-shadow: 0px 1px 3px 1px rgba(0, 0, 0, 0.15);\n",
              "      filter: drop-shadow(0px 1px 2px rgba(0, 0, 0, 0.3));\n",
              "      fill: #FFFFFF;\n",
              "    }\n",
              "  </style>\n",
              "\n",
              "      <script>\n",
              "        const buttonEl =\n",
              "          document.querySelector('#df-e848dfce-3fe8-4bae-8be5-8c375fb4ec39 button.colab-df-convert');\n",
              "        buttonEl.style.display =\n",
              "          google.colab.kernel.accessAllowed ? 'block' : 'none';\n",
              "\n",
              "        async function convertToInteractive(key) {\n",
              "          const element = document.querySelector('#df-e848dfce-3fe8-4bae-8be5-8c375fb4ec39');\n",
              "          const dataTable =\n",
              "            await google.colab.kernel.invokeFunction('convertToInteractive',\n",
              "                                                     [key], {});\n",
              "          if (!dataTable) return;\n",
              "\n",
              "          const docLinkHtml = 'Like what you see? Visit the ' +\n",
              "            '<a target=\"_blank\" href=https://colab.research.google.com/notebooks/data_table.ipynb>data table notebook</a>'\n",
              "            + ' to learn more about interactive tables.';\n",
              "          element.innerHTML = '';\n",
              "          dataTable['output_type'] = 'display_data';\n",
              "          await google.colab.output.renderOutput(dataTable, element);\n",
              "          const docLink = document.createElement('div');\n",
              "          docLink.innerHTML = docLinkHtml;\n",
              "          element.appendChild(docLink);\n",
              "        }\n",
              "      </script>\n",
              "    </div>\n",
              "  </div>\n",
              "  "
            ]
          },
          "metadata": {},
          "execution_count": 4
        }
      ],
      "source": [
        "df = pd.read_csv(\"/content/customer_booking.csv\", encoding=\"ISO-8859-1\")\n",
        "df.head()"
      ]
    },
    {
      "cell_type": "markdown",
      "metadata": {
        "id": "SEeEmh_re3S6"
      },
      "source": [
        "The `.head()` method allows us to view the first 5 rows in the dataset, this is useful for visual inspection of our columns"
      ]
    },
    {
      "cell_type": "code",
      "execution_count": 5,
      "metadata": {
        "colab": {
          "base_uri": "https://localhost:8080/"
        },
        "id": "t4Hwtj6Me3S6",
        "outputId": "11176373-1b29-4e77-f051-841c4af523bc"
      },
      "outputs": [
        {
          "output_type": "stream",
          "name": "stdout",
          "text": [
            "<class 'pandas.core.frame.DataFrame'>\n",
            "RangeIndex: 50000 entries, 0 to 49999\n",
            "Data columns (total 14 columns):\n",
            " #   Column                 Non-Null Count  Dtype  \n",
            "---  ------                 --------------  -----  \n",
            " 0   num_passengers         50000 non-null  int64  \n",
            " 1   sales_channel          50000 non-null  object \n",
            " 2   trip_type              50000 non-null  object \n",
            " 3   purchase_lead          50000 non-null  int64  \n",
            " 4   length_of_stay         50000 non-null  int64  \n",
            " 5   flight_hour            50000 non-null  int64  \n",
            " 6   flight_day             50000 non-null  object \n",
            " 7   route                  50000 non-null  object \n",
            " 8   booking_origin         50000 non-null  object \n",
            " 9   wants_extra_baggage    50000 non-null  int64  \n",
            " 10  wants_preferred_seat   50000 non-null  int64  \n",
            " 11  wants_in_flight_meals  50000 non-null  int64  \n",
            " 12  flight_duration        50000 non-null  float64\n",
            " 13  booking_complete       50000 non-null  int64  \n",
            "dtypes: float64(1), int64(8), object(5)\n",
            "memory usage: 5.3+ MB\n"
          ]
        }
      ],
      "source": [
        "df.info()"
      ]
    },
    {
      "cell_type": "code",
      "execution_count": 6,
      "metadata": {
        "colab": {
          "base_uri": "https://localhost:8080/"
        },
        "id": "rpt4HxdIe3S8",
        "outputId": "4a562609-6307-4cb3-df31-63fc7583aacb"
      },
      "outputs": [
        {
          "output_type": "execute_result",
          "data": {
            "text/plain": [
              "array(['Sat', 'Wed', 'Thu', 'Mon', 'Sun', 'Tue', 'Fri'], dtype=object)"
            ]
          },
          "metadata": {},
          "execution_count": 6
        }
      ],
      "source": [
        "df[\"flight_day\"].unique()"
      ]
    },
    {
      "cell_type": "code",
      "execution_count": 7,
      "metadata": {
        "id": "Yhn_2AK-e3S8"
      },
      "outputs": [],
      "source": [
        "mapping = {\n",
        "    \"Mon\": 1,\n",
        "    \"Tue\": 2,\n",
        "    \"Wed\": 3,\n",
        "    \"Thu\": 4,\n",
        "    \"Fri\": 5,\n",
        "    \"Sat\": 6,\n",
        "    \"Sun\": 7,\n",
        "}\n",
        "\n",
        "df[\"flight_day\"] = df[\"flight_day\"].map(mapping)"
      ]
    },
    {
      "cell_type": "code",
      "execution_count": 8,
      "metadata": {
        "colab": {
          "base_uri": "https://localhost:8080/"
        },
        "id": "p6ne6oZFe3S8",
        "outputId": "bc8467ae-9898-4bdc-a5ca-0397992920ea"
      },
      "outputs": [
        {
          "output_type": "execute_result",
          "data": {
            "text/plain": [
              "array([6, 3, 4, 1, 7, 2, 5])"
            ]
          },
          "metadata": {},
          "execution_count": 8
        }
      ],
      "source": [
        "df[\"flight_day\"].unique()"
      ]
    },
    {
      "cell_type": "code",
      "execution_count": 9,
      "metadata": {
        "colab": {
          "base_uri": "https://localhost:8080/",
          "height": 364
        },
        "id": "yICyFUr7e3S9",
        "outputId": "798433e7-2f5d-4650-a91e-7d44e853904b"
      },
      "outputs": [
        {
          "output_type": "execute_result",
          "data": {
            "text/plain": [
              "       num_passengers  purchase_lead  length_of_stay  flight_hour  \\\n",
              "count    50000.000000   50000.000000     50000.00000  50000.00000   \n",
              "mean         1.591240      84.940480        23.04456      9.06634   \n",
              "std          1.020165      90.451378        33.88767      5.41266   \n",
              "min          1.000000       0.000000         0.00000      0.00000   \n",
              "25%          1.000000      21.000000         5.00000      5.00000   \n",
              "50%          1.000000      51.000000        17.00000      9.00000   \n",
              "75%          2.000000     115.000000        28.00000     13.00000   \n",
              "max          9.000000     867.000000       778.00000     23.00000   \n",
              "\n",
              "         flight_day  wants_extra_baggage  wants_preferred_seat  \\\n",
              "count  50000.000000         50000.000000          50000.000000   \n",
              "mean       3.814420             0.668780              0.296960   \n",
              "std        1.992792             0.470657              0.456923   \n",
              "min        1.000000             0.000000              0.000000   \n",
              "25%        2.000000             0.000000              0.000000   \n",
              "50%        4.000000             1.000000              0.000000   \n",
              "75%        5.000000             1.000000              1.000000   \n",
              "max        7.000000             1.000000              1.000000   \n",
              "\n",
              "       wants_in_flight_meals  flight_duration  booking_complete  \n",
              "count           50000.000000     50000.000000      50000.000000  \n",
              "mean                0.427140         7.277561          0.149560  \n",
              "std                 0.494668         1.496863          0.356643  \n",
              "min                 0.000000         4.670000          0.000000  \n",
              "25%                 0.000000         5.620000          0.000000  \n",
              "50%                 0.000000         7.570000          0.000000  \n",
              "75%                 1.000000         8.830000          0.000000  \n",
              "max                 1.000000         9.500000          1.000000  "
            ],
            "text/html": [
              "\n",
              "  <div id=\"df-3cc82517-e50e-4ee7-82a9-ce9cced056bd\">\n",
              "    <div class=\"colab-df-container\">\n",
              "      <div>\n",
              "<style scoped>\n",
              "    .dataframe tbody tr th:only-of-type {\n",
              "        vertical-align: middle;\n",
              "    }\n",
              "\n",
              "    .dataframe tbody tr th {\n",
              "        vertical-align: top;\n",
              "    }\n",
              "\n",
              "    .dataframe thead th {\n",
              "        text-align: right;\n",
              "    }\n",
              "</style>\n",
              "<table border=\"1\" class=\"dataframe\">\n",
              "  <thead>\n",
              "    <tr style=\"text-align: right;\">\n",
              "      <th></th>\n",
              "      <th>num_passengers</th>\n",
              "      <th>purchase_lead</th>\n",
              "      <th>length_of_stay</th>\n",
              "      <th>flight_hour</th>\n",
              "      <th>flight_day</th>\n",
              "      <th>wants_extra_baggage</th>\n",
              "      <th>wants_preferred_seat</th>\n",
              "      <th>wants_in_flight_meals</th>\n",
              "      <th>flight_duration</th>\n",
              "      <th>booking_complete</th>\n",
              "    </tr>\n",
              "  </thead>\n",
              "  <tbody>\n",
              "    <tr>\n",
              "      <th>count</th>\n",
              "      <td>50000.000000</td>\n",
              "      <td>50000.000000</td>\n",
              "      <td>50000.00000</td>\n",
              "      <td>50000.00000</td>\n",
              "      <td>50000.000000</td>\n",
              "      <td>50000.000000</td>\n",
              "      <td>50000.000000</td>\n",
              "      <td>50000.000000</td>\n",
              "      <td>50000.000000</td>\n",
              "      <td>50000.000000</td>\n",
              "    </tr>\n",
              "    <tr>\n",
              "      <th>mean</th>\n",
              "      <td>1.591240</td>\n",
              "      <td>84.940480</td>\n",
              "      <td>23.04456</td>\n",
              "      <td>9.06634</td>\n",
              "      <td>3.814420</td>\n",
              "      <td>0.668780</td>\n",
              "      <td>0.296960</td>\n",
              "      <td>0.427140</td>\n",
              "      <td>7.277561</td>\n",
              "      <td>0.149560</td>\n",
              "    </tr>\n",
              "    <tr>\n",
              "      <th>std</th>\n",
              "      <td>1.020165</td>\n",
              "      <td>90.451378</td>\n",
              "      <td>33.88767</td>\n",
              "      <td>5.41266</td>\n",
              "      <td>1.992792</td>\n",
              "      <td>0.470657</td>\n",
              "      <td>0.456923</td>\n",
              "      <td>0.494668</td>\n",
              "      <td>1.496863</td>\n",
              "      <td>0.356643</td>\n",
              "    </tr>\n",
              "    <tr>\n",
              "      <th>min</th>\n",
              "      <td>1.000000</td>\n",
              "      <td>0.000000</td>\n",
              "      <td>0.00000</td>\n",
              "      <td>0.00000</td>\n",
              "      <td>1.000000</td>\n",
              "      <td>0.000000</td>\n",
              "      <td>0.000000</td>\n",
              "      <td>0.000000</td>\n",
              "      <td>4.670000</td>\n",
              "      <td>0.000000</td>\n",
              "    </tr>\n",
              "    <tr>\n",
              "      <th>25%</th>\n",
              "      <td>1.000000</td>\n",
              "      <td>21.000000</td>\n",
              "      <td>5.00000</td>\n",
              "      <td>5.00000</td>\n",
              "      <td>2.000000</td>\n",
              "      <td>0.000000</td>\n",
              "      <td>0.000000</td>\n",
              "      <td>0.000000</td>\n",
              "      <td>5.620000</td>\n",
              "      <td>0.000000</td>\n",
              "    </tr>\n",
              "    <tr>\n",
              "      <th>50%</th>\n",
              "      <td>1.000000</td>\n",
              "      <td>51.000000</td>\n",
              "      <td>17.00000</td>\n",
              "      <td>9.00000</td>\n",
              "      <td>4.000000</td>\n",
              "      <td>1.000000</td>\n",
              "      <td>0.000000</td>\n",
              "      <td>0.000000</td>\n",
              "      <td>7.570000</td>\n",
              "      <td>0.000000</td>\n",
              "    </tr>\n",
              "    <tr>\n",
              "      <th>75%</th>\n",
              "      <td>2.000000</td>\n",
              "      <td>115.000000</td>\n",
              "      <td>28.00000</td>\n",
              "      <td>13.00000</td>\n",
              "      <td>5.000000</td>\n",
              "      <td>1.000000</td>\n",
              "      <td>1.000000</td>\n",
              "      <td>1.000000</td>\n",
              "      <td>8.830000</td>\n",
              "      <td>0.000000</td>\n",
              "    </tr>\n",
              "    <tr>\n",
              "      <th>max</th>\n",
              "      <td>9.000000</td>\n",
              "      <td>867.000000</td>\n",
              "      <td>778.00000</td>\n",
              "      <td>23.00000</td>\n",
              "      <td>7.000000</td>\n",
              "      <td>1.000000</td>\n",
              "      <td>1.000000</td>\n",
              "      <td>1.000000</td>\n",
              "      <td>9.500000</td>\n",
              "      <td>1.000000</td>\n",
              "    </tr>\n",
              "  </tbody>\n",
              "</table>\n",
              "</div>\n",
              "      <button class=\"colab-df-convert\" onclick=\"convertToInteractive('df-3cc82517-e50e-4ee7-82a9-ce9cced056bd')\"\n",
              "              title=\"Convert this dataframe to an interactive table.\"\n",
              "              style=\"display:none;\">\n",
              "        \n",
              "  <svg xmlns=\"http://www.w3.org/2000/svg\" height=\"24px\"viewBox=\"0 0 24 24\"\n",
              "       width=\"24px\">\n",
              "    <path d=\"M0 0h24v24H0V0z\" fill=\"none\"/>\n",
              "    <path d=\"M18.56 5.44l.94 2.06.94-2.06 2.06-.94-2.06-.94-.94-2.06-.94 2.06-2.06.94zm-11 1L8.5 8.5l.94-2.06 2.06-.94-2.06-.94L8.5 2.5l-.94 2.06-2.06.94zm10 10l.94 2.06.94-2.06 2.06-.94-2.06-.94-.94-2.06-.94 2.06-2.06.94z\"/><path d=\"M17.41 7.96l-1.37-1.37c-.4-.4-.92-.59-1.43-.59-.52 0-1.04.2-1.43.59L10.3 9.45l-7.72 7.72c-.78.78-.78 2.05 0 2.83L4 21.41c.39.39.9.59 1.41.59.51 0 1.02-.2 1.41-.59l7.78-7.78 2.81-2.81c.8-.78.8-2.07 0-2.86zM5.41 20L4 18.59l7.72-7.72 1.47 1.35L5.41 20z\"/>\n",
              "  </svg>\n",
              "      </button>\n",
              "      \n",
              "  <style>\n",
              "    .colab-df-container {\n",
              "      display:flex;\n",
              "      flex-wrap:wrap;\n",
              "      gap: 12px;\n",
              "    }\n",
              "\n",
              "    .colab-df-convert {\n",
              "      background-color: #E8F0FE;\n",
              "      border: none;\n",
              "      border-radius: 50%;\n",
              "      cursor: pointer;\n",
              "      display: none;\n",
              "      fill: #1967D2;\n",
              "      height: 32px;\n",
              "      padding: 0 0 0 0;\n",
              "      width: 32px;\n",
              "    }\n",
              "\n",
              "    .colab-df-convert:hover {\n",
              "      background-color: #E2EBFA;\n",
              "      box-shadow: 0px 1px 2px rgba(60, 64, 67, 0.3), 0px 1px 3px 1px rgba(60, 64, 67, 0.15);\n",
              "      fill: #174EA6;\n",
              "    }\n",
              "\n",
              "    [theme=dark] .colab-df-convert {\n",
              "      background-color: #3B4455;\n",
              "      fill: #D2E3FC;\n",
              "    }\n",
              "\n",
              "    [theme=dark] .colab-df-convert:hover {\n",
              "      background-color: #434B5C;\n",
              "      box-shadow: 0px 1px 3px 1px rgba(0, 0, 0, 0.15);\n",
              "      filter: drop-shadow(0px 1px 2px rgba(0, 0, 0, 0.3));\n",
              "      fill: #FFFFFF;\n",
              "    }\n",
              "  </style>\n",
              "\n",
              "      <script>\n",
              "        const buttonEl =\n",
              "          document.querySelector('#df-3cc82517-e50e-4ee7-82a9-ce9cced056bd button.colab-df-convert');\n",
              "        buttonEl.style.display =\n",
              "          google.colab.kernel.accessAllowed ? 'block' : 'none';\n",
              "\n",
              "        async function convertToInteractive(key) {\n",
              "          const element = document.querySelector('#df-3cc82517-e50e-4ee7-82a9-ce9cced056bd');\n",
              "          const dataTable =\n",
              "            await google.colab.kernel.invokeFunction('convertToInteractive',\n",
              "                                                     [key], {});\n",
              "          if (!dataTable) return;\n",
              "\n",
              "          const docLinkHtml = 'Like what you see? Visit the ' +\n",
              "            '<a target=\"_blank\" href=https://colab.research.google.com/notebooks/data_table.ipynb>data table notebook</a>'\n",
              "            + ' to learn more about interactive tables.';\n",
              "          element.innerHTML = '';\n",
              "          dataTable['output_type'] = 'display_data';\n",
              "          await google.colab.output.renderOutput(dataTable, element);\n",
              "          const docLink = document.createElement('div');\n",
              "          docLink.innerHTML = docLinkHtml;\n",
              "          element.appendChild(docLink);\n",
              "        }\n",
              "      </script>\n",
              "    </div>\n",
              "  </div>\n",
              "  "
            ]
          },
          "metadata": {},
          "execution_count": 9
        }
      ],
      "source": [
        "df.describe()"
      ]
    },
    {
      "cell_type": "code",
      "source": [
        "#null values\n",
        "\n",
        "df.isnull().sum()\n",
        "\n",
        "#there is no null values"
      ],
      "metadata": {
        "colab": {
          "base_uri": "https://localhost:8080/"
        },
        "id": "iOPVwUZBfuck",
        "outputId": "b963d13a-3fd3-4399-a57b-1db2e5cd1b8c"
      },
      "execution_count": 10,
      "outputs": [
        {
          "output_type": "execute_result",
          "data": {
            "text/plain": [
              "num_passengers           0\n",
              "sales_channel            0\n",
              "trip_type                0\n",
              "purchase_lead            0\n",
              "length_of_stay           0\n",
              "flight_hour              0\n",
              "flight_day               0\n",
              "route                    0\n",
              "booking_origin           0\n",
              "wants_extra_baggage      0\n",
              "wants_preferred_seat     0\n",
              "wants_in_flight_meals    0\n",
              "flight_duration          0\n",
              "booking_complete         0\n",
              "dtype: int64"
            ]
          },
          "metadata": {},
          "execution_count": 10
        }
      ]
    },
    {
      "cell_type": "markdown",
      "metadata": {
        "id": "B-WTFqK7e3S-"
      },
      "source": [
        "# **Mutual Information**"
      ]
    },
    {
      "cell_type": "code",
      "source": [
        "data= df.drop('booking_complete',axis=1)\n",
        "y= df.booking_complete         \n",
        "\n",
        "#changing object dtype to int dtype\n",
        "for colname in data.select_dtypes(\"object\"):\n",
        "    data[colname], _ = data[colname].factorize()"
      ],
      "metadata": {
        "id": "4Wy-FLzMfxjP"
      },
      "execution_count": 12,
      "outputs": []
    },
    {
      "cell_type": "code",
      "source": [
        "\n",
        "data.dtypes"
      ],
      "metadata": {
        "colab": {
          "base_uri": "https://localhost:8080/"
        },
        "id": "rn-Z5dUof_Gc",
        "outputId": "3bdf1330-7d60-4d76-d720-6227b50f6b9d"
      },
      "execution_count": 13,
      "outputs": [
        {
          "output_type": "execute_result",
          "data": {
            "text/plain": [
              "num_passengers             int64\n",
              "sales_channel              int64\n",
              "trip_type                  int64\n",
              "purchase_lead              int64\n",
              "length_of_stay             int64\n",
              "flight_hour                int64\n",
              "flight_day                 int64\n",
              "route                      int64\n",
              "booking_origin             int64\n",
              "wants_extra_baggage        int64\n",
              "wants_preferred_seat       int64\n",
              "wants_in_flight_meals      int64\n",
              "flight_duration          float64\n",
              "dtype: object"
            ]
          },
          "metadata": {},
          "execution_count": 13
        }
      ]
    },
    {
      "cell_type": "code",
      "source": [
        "from sklearn.feature_selection import mutual_info_classif\n",
        "\n",
        "mi_scores = mutual_info_classif(data, y)\n",
        "mi_scores = pd.Series(mi_scores, name=\"MI Scores\", index=data.columns)\n",
        "mi_scores = mi_scores.sort_values(ascending=False)\n",
        "\n",
        "mi_scores # show a few features with their MI scores"
      ],
      "metadata": {
        "colab": {
          "base_uri": "https://localhost:8080/"
        },
        "id": "qEZU2kykgC0w",
        "outputId": "2ac40024-30c1-48a6-a7de-0889cce2b99e"
      },
      "execution_count": 14,
      "outputs": [
        {
          "output_type": "execute_result",
          "data": {
            "text/plain": [
              "route                    0.052817\n",
              "booking_origin           0.048402\n",
              "flight_duration          0.016886\n",
              "wants_extra_baggage      0.007903\n",
              "length_of_stay           0.007025\n",
              "num_passengers           0.004731\n",
              "wants_in_flight_meals    0.003519\n",
              "purchase_lead            0.002171\n",
              "sales_channel            0.002114\n",
              "flight_hour              0.002069\n",
              "wants_preferred_seat     0.001095\n",
              "trip_type                0.000881\n",
              "flight_day               0.000187\n",
              "Name: MI Scores, dtype: float64"
            ]
          },
          "metadata": {},
          "execution_count": 14
        }
      ]
    },
    {
      "cell_type": "code",
      "source": [
        "def plot_mi_scores(scores):\n",
        "    scores = scores.sort_values(ascending=True)\n",
        "    width = np.arange(len(scores))\n",
        "    ticks = list(scores.index)\n",
        "    plt.barh(width, scores)\n",
        "    plt.yticks(width, ticks)\n",
        "    plt.title(\"Mutual Information Scores\")\n",
        "\n",
        "\n",
        "plt.figure(dpi=100, figsize=(8, 5))\n",
        "plot_mi_scores(mi_scores)"
      ],
      "metadata": {
        "colab": {
          "base_uri": "https://localhost:8080/",
          "height": 460
        },
        "id": "su6xMOc0gK9e",
        "outputId": "fd1de7f7-a344-44d6-d136-8a2cdbd4940a"
      },
      "execution_count": 15,
      "outputs": [
        {
          "output_type": "display_data",
          "data": {
            "text/plain": [
              "<Figure size 800x500 with 1 Axes>"
            ],
            "image/png": "[encoded data removed]"
          },
          "metadata": {
            "needs_background": "light"
          }
        }
      ]
    },
    {
      "cell_type": "code",
      "source": [
        "#test train split\n",
        "\n",
        "from sklearn.model_selection import train_test_split\n",
        "\n",
        "# dataset split\n",
        "# creating a function for dataset split\n",
        "def dataset(data,y):\n",
        "    train_full_data, val_data, train_full_y, val_y = train_test_split(data, y,test_size=0.2,random_state = 0)\n",
        "\n",
        "# Use the same function above for the validation set\n",
        "    train_data, test_data, train_y, test_y = train_test_split(train_full_data, train_full_y, test_size=0.25,random_state = 0)\n",
        "    return (train_data, val_data, train_y, val_y)\n",
        "     "
      ],
      "metadata": {
        "id": "mYU7VxjZgTnx"
      },
      "execution_count": 19,
      "outputs": []
    },
    {
      "cell_type": "code",
      "source": [
        "from sklearn.preprocessing import MinMaxScaler\n",
        "\n",
        "def scale(data):\n",
        "    scaler = MinMaxScaler()\n",
        "    scaler.fit(data)\n",
        "    return data"
      ],
      "metadata": {
        "id": "DQUT0YYFgeTT"
      },
      "execution_count": 20,
      "outputs": []
    },
    {
      "cell_type": "markdown",
      "source": [
        "# **Model 1 : Random forest classifier with top 6 features**"
      ],
      "metadata": {
        "id": "07UUDjesgnCq"
      }
    },
    {
      "cell_type": "code",
      "source": [
        "from sklearn.metrics import roc_auc_score\n",
        "from sklearn.metrics import accuracy_score\n",
        "from sklearn.ensemble import RandomForestClassifier\n",
        "\n",
        "\n",
        "\n",
        "#assigning the features under a list\n",
        "\n",
        "features=['route','booking_origin','flight_duration','wants_extra_baggage', 'length_of_stay','num_passengers']\n",
        "data= df[features]\n",
        "#one hot encoding\n",
        "data = pd.get_dummies(data, columns=features)\n",
        "data= scale(data)\n",
        "y= df.booking_complete       \n",
        "\n",
        "data_train,data_val,y_train,y_val= dataset(data,y)\n",
        "\n",
        "forest_model= RandomForestClassifier(random_state=1)\n",
        "forest_model.fit(data_train, y_train)\n",
        "preds= forest_model.predict(data_val)\n",
        "\n",
        "print('ACCURACY: ',accuracy_score(y_val,preds)*100)\n",
        "print('AUC score: ',roc_auc_score(y_val,preds))"
      ],
      "metadata": {
        "colab": {
          "base_uri": "https://localhost:8080/"
        },
        "id": "0pe7Le_Ggkt-",
        "outputId": "439ae48b-527b-494a-ffc3-295818f68e2c"
      },
      "execution_count": 21,
      "outputs": [
        {
          "output_type": "stream",
          "name": "stdout",
          "text": [
            "ACCURACY:  83.36\n",
            "AUC score:  0.5657818407546988\n"
          ]
        }
      ]
    },
    {
      "cell_type": "markdown",
      "source": [
        "# **Model 2 : Random forest classifier with all features**"
      ],
      "metadata": {
        "id": "pgslxIQiiU0G"
      }
    },
    {
      "cell_type": "code",
      "source": [
        "data= df.drop('booking_complete',axis=1)\n",
        "#one hot encoding\n",
        "data = pd.get_dummies(data)\n",
        "data= scale(data)\n",
        "y= df.booking_complete       \n",
        "\n",
        "data_train,data_val,y_train,y_val= dataset(data,y)\n",
        "\n",
        "forest_model= RandomForestClassifier(random_state=1)\n",
        "forest_model.fit(data_train, y_train)\n",
        "preds= forest_model.predict(data_val)\n",
        "\n",
        "print('ACCURACY: ',accuracy_score(y_val,preds)*100)\n",
        "print('AUC score: ',roc_auc_score(y_val,preds))\n",
        "     "
      ],
      "metadata": {
        "colab": {
          "base_uri": "https://localhost:8080/"
        },
        "id": "jK5VqKP3iUFb",
        "outputId": "c21a1fea-81ac-4127-8f58-fcccd03d9ebc"
      },
      "execution_count": 23,
      "outputs": [
        {
          "output_type": "stream",
          "name": "stdout",
          "text": [
            "ACCURACY:  84.84\n",
            "AUC score:  0.5527766076821664\n"
          ]
        }
      ]
    }
  ],
  "metadata": {
    "kernelspec": {
      "display_name": "Python 3.9.13 ('venv': venv)",
      "language": "python",
      "name": "python3"
    },
    "language_info": {
      "codemirror_mode": {
        "name": "ipython",
        "version": 3
      },
      "file_extension": ".py",
      "mimetype": "text/x-python",
      "name": "python",
      "nbconvert_exporter": "python",
      "pygments_lexer": "ipython3",
      "version": "3.9.13"
    },
    "orig_nbformat": 4,
    "vscode": {
      "interpreter": {
        "hash": "4f7924c4c56b083e0e50eadfe7ef592a7a8ef70df33a0047f82280e6be1afe15"
      }
    },
    "colab": {
      "provenance": []
    }
  },
  "nbformat": 4,
  "nbformat_minor": 0
}